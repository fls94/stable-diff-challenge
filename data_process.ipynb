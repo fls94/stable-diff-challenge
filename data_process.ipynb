{
 "cells": [
  {
   "cell_type": "code",
   "execution_count": 1,
   "id": "dd8ac61a",
   "metadata": {},
   "outputs": [],
   "source": [
    "import pandas as pd"
   ]
  },
  {
   "cell_type": "code",
   "execution_count": 4,
   "id": "e32f62dd",
   "metadata": {},
   "outputs": [],
   "source": [
    "df = pd.read_parquet(\"stable_diffusion_prompts.parquet\")"
   ]
  },
  {
   "cell_type": "code",
   "execution_count": 5,
   "id": "0bb2d5b1",
   "metadata": {},
   "outputs": [
    {
     "name": "stdout",
     "output_type": "stream",
     "text": [
      "                                                  prompt\n",
      "0      realistic car 3 d render sci - fi car and sci ...\n",
      "1      a comic potrait of a female necromamcer with b...\n",
      "2      steampunk market interior, colorful, 3 d scene...\n",
      "3      “A portrait of a cyborg in a golden suit, D&D ...\n",
      "4      A full portrait of a beautiful post apocalypti...\n",
      "...                                                  ...\n",
      "81905  portrait of samuel jackson as gandalf, by alan...\n",
      "81906  a photorealistic hyperrealistic render of an i...\n",
      "81907  occult leader by artgerm, tooth wu, dan mumfor...\n",
      "81908  front shot of an alien cargo ship, intricate, ...\n",
      "81909  portrait of a young ruggedly handsome but joyf...\n",
      "\n",
      "[81910 rows x 1 columns]\n"
     ]
    }
   ],
   "source": [
    "print(df)"
   ]
  },
  {
   "cell_type": "code",
   "execution_count": 6,
   "id": "64cd743f",
   "metadata": {},
   "outputs": [],
   "source": [
    "df.to_csv(\"stable_diff_prompts.csv\")"
   ]
  },
  {
   "cell_type": "code",
   "execution_count": 8,
   "id": "c767b059",
   "metadata": {},
   "outputs": [
    {
     "name": "stdout",
     "output_type": "stream",
     "text": [
      "12\n"
     ]
    }
   ],
   "source": [
    "def get_prop_nouns(input_str):\n",
    "    idx\n",
    "get_prop_nouns(\"i want a red-like in my dino-being\")"
   ]
  },
  {
   "cell_type": "code",
   "execution_count": null,
   "id": "08bc6340",
   "metadata": {},
   "outputs": [],
   "source": [
    "# process.py\n",
    "def _get_processor(process_name):\n",
    "    \"\"\"\n",
    "    \"\"\"\n",
    "    if process_name == \"trim\":\n",
    "        return _trim\n",
    "    else:\n",
    "        raise ValueError(process_name)\n",
    "    \n",
    "def _trim(input_str):\n",
    "    \"\"\"\n",
    "    \"\"\"\n",
    "    return input_str.strip()"
   ]
  },
  {
   "cell_type": "code",
   "execution_count": 13,
   "id": "bb29414d",
   "metadata": {},
   "outputs": [],
   "source": [
    "class PromptProcessor:\n",
    "    \"\"\"\n",
    "    \"\"\"\n",
    "    def process(self, prompt, process_name):\n",
    "        \"\"\"\n",
    "        \"\"\"\n",
    "        processor = _get_processor(process_name)\n",
    "        return processor(prompt)\n",
    "    \n"
   ]
  },
  {
   "cell_type": "code",
   "execution_count": 14,
   "id": "db4d535c",
   "metadata": {},
   "outputs": [
    {
     "data": {
      "text/plain": [
       "'abc'"
      ]
     },
     "execution_count": 14,
     "metadata": {},
     "output_type": "execute_result"
    }
   ],
   "source": [
    "processor = PromptProcessor()\n",
    "processor.process(\"abc\", \"trim\")"
   ]
  },
  {
   "cell_type": "code",
   "execution_count": null,
   "id": "15a11cce",
   "metadata": {},
   "outputs": [],
   "source": []
  }
 ],
 "metadata": {
  "kernelspec": {
   "display_name": "Python 3 (ipykernel)",
   "language": "python",
   "name": "python3"
  },
  "language_info": {
   "codemirror_mode": {
    "name": "ipython",
    "version": 3
   },
   "file_extension": ".py",
   "mimetype": "text/x-python",
   "name": "python",
   "nbconvert_exporter": "python",
   "pygments_lexer": "ipython3",
   "version": "3.7.7"
  }
 },
 "nbformat": 4,
 "nbformat_minor": 5
}
